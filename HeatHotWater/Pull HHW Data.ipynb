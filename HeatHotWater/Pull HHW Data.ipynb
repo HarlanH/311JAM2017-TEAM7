{
 "cells": [
  {
   "cell_type": "code",
   "execution_count": 1,
   "metadata": {
    "collapsed": true
   },
   "outputs": [],
   "source": [
    "import pandas as pd\n",
    "pd.set_option('display.max_columns', None)"
   ]
  },
  {
   "cell_type": "code",
   "execution_count": 11,
   "metadata": {
    "collapsed": true
   },
   "outputs": [],
   "source": [
    "query = \"\"\"\n",
    "SELECT created_date, closed_date, descriptor,\n",
    "    location_type, incident_zip,\n",
    "    borough, latitude, longitude\n",
    "FROM \n",
    "`bigquery-public-data.new_york.311_service_requests` \n",
    "WHERE complaint_type = 'HEAT/HOT WATER'\n",
    "--LIMIT 1000\n",
    "\n",
    "\"\"\""
   ]
  },
  {
   "cell_type": "code",
   "execution_count": 12,
   "metadata": {
    "collapsed": false
   },
   "outputs": [
    {
     "name": "stdout",
     "output_type": "stream",
     "text": [
      "Requesting query... ok.\n",
      "Job ID: job_Y0Bq0zwhlu8RihpMnTcBJ4fMrkwD\n",
      "Query running...\n",
      "Query done.\n",
      "Processed: 1.5 GB\n",
      "Standard price: $0.01 USD\n",
      "\n",
      "Retrieving results...\n",
      "  Got page: 1; 6.0% done. Elapsed 14.81 s.\n",
      "  Got page: 2; 12.0% done. Elapsed 21.16 s.\n",
      "  Got page: 3; 19.0% done. Elapsed 28.26 s.\n",
      "  Got page: 4; 25.0% done. Elapsed 33.21 s.\n",
      "  Got page: 5; 31.0% done. Elapsed 39.53 s.\n",
      "  Got page: 6; 37.0% done. Elapsed 46.1 s.\n",
      "  Got page: 7; 44.0% done. Elapsed 51.8 s.\n",
      "  Got page: 8; 50.0% done. Elapsed 59.52 s.\n",
      "  Got page: 9; 56.0% done. Elapsed 65.76 s.\n",
      "  Got page: 10; 62.0% done. Elapsed 71.3 s.\n",
      "  Got page: 11; 68.0% done. Elapsed 79.14 s.\n",
      "  Got page: 12; 75.0% done. Elapsed 85.26 s.\n",
      "  Got page: 13; 81.0% done. Elapsed 91.15 s.\n",
      "  Got page: 14; 87.0% done. Elapsed 100.41 s.\n",
      "  Got page: 15; 93.0% done. Elapsed 106.96 s.\n",
      "  Got page: 16; 100.0% done. Elapsed 112.95 s.\n",
      "  Got page: 17; 100.0% done. Elapsed 113.87 s.\n",
      "Got 703178 rows.\n",
      "\n",
      "Total time taken 165.36 s.\n",
      "Finished at 2017-09-23 13:23:42.\n"
     ]
    }
   ],
   "source": [
    "df = pd.read_gbq(query, project_id='np-hacks',verbose=True, private_key='auth_key.json', dialect='standard')\n"
   ]
  },
  {
   "cell_type": "code",
   "execution_count": 13,
   "metadata": {
    "collapsed": false
   },
   "outputs": [
    {
     "data": {
      "text/html": [
       "<div>\n",
       "<style>\n",
       "    .dataframe thead tr:only-child th {\n",
       "        text-align: right;\n",
       "    }\n",
       "\n",
       "    .dataframe thead th {\n",
       "        text-align: left;\n",
       "    }\n",
       "\n",
       "    .dataframe tbody tr th {\n",
       "        vertical-align: top;\n",
       "    }\n",
       "</style>\n",
       "<table border=\"1\" class=\"dataframe\">\n",
       "  <thead>\n",
       "    <tr style=\"text-align: right;\">\n",
       "      <th></th>\n",
       "      <th>created_date</th>\n",
       "      <th>closed_date</th>\n",
       "      <th>descriptor</th>\n",
       "      <th>location_type</th>\n",
       "      <th>incident_zip</th>\n",
       "      <th>borough</th>\n",
       "      <th>latitude</th>\n",
       "      <th>longitude</th>\n",
       "    </tr>\n",
       "  </thead>\n",
       "  <tbody>\n",
       "    <tr>\n",
       "      <th>0</th>\n",
       "      <td>2016-12-16 16:48:23</td>\n",
       "      <td>2016-12-26 02:06:47</td>\n",
       "      <td>APARTMENT ONLY</td>\n",
       "      <td>RESIDENTIAL BUILDING</td>\n",
       "      <td>11691</td>\n",
       "      <td>QUEENS</td>\n",
       "      <td>40.602244</td>\n",
       "      <td>-73.753957</td>\n",
       "    </tr>\n",
       "    <tr>\n",
       "      <th>1</th>\n",
       "      <td>2015-06-04 00:00:00</td>\n",
       "      <td>2015-06-09 00:00:00</td>\n",
       "      <td>ENTIRE BUILDING</td>\n",
       "      <td>RESIDENTIAL BUILDING</td>\n",
       "      <td>11691</td>\n",
       "      <td>QUEENS</td>\n",
       "      <td>40.602244</td>\n",
       "      <td>-73.753957</td>\n",
       "    </tr>\n",
       "    <tr>\n",
       "      <th>2</th>\n",
       "      <td>2016-10-25 15:09:49</td>\n",
       "      <td>2016-10-30 08:48:56</td>\n",
       "      <td>ENTIRE BUILDING</td>\n",
       "      <td>RESIDENTIAL BUILDING</td>\n",
       "      <td>11691</td>\n",
       "      <td>QUEENS</td>\n",
       "      <td>40.602244</td>\n",
       "      <td>-73.753957</td>\n",
       "    </tr>\n",
       "    <tr>\n",
       "      <th>3</th>\n",
       "      <td>2016-10-10 07:36:32</td>\n",
       "      <td>2016-10-12 10:56:01</td>\n",
       "      <td>ENTIRE BUILDING</td>\n",
       "      <td>RESIDENTIAL BUILDING</td>\n",
       "      <td>11691</td>\n",
       "      <td>QUEENS</td>\n",
       "      <td>40.602244</td>\n",
       "      <td>-73.753957</td>\n",
       "    </tr>\n",
       "    <tr>\n",
       "      <th>4</th>\n",
       "      <td>2014-03-31 00:00:00</td>\n",
       "      <td>2014-04-07 00:00:00</td>\n",
       "      <td>ENTIRE BUILDING</td>\n",
       "      <td>RESIDENTIAL BUILDING</td>\n",
       "      <td>11691</td>\n",
       "      <td>QUEENS</td>\n",
       "      <td>40.602244</td>\n",
       "      <td>-73.753957</td>\n",
       "    </tr>\n",
       "  </tbody>\n",
       "</table>\n",
       "</div>"
      ],
      "text/plain": [
       "         created_date         closed_date       descriptor  \\\n",
       "0 2016-12-16 16:48:23 2016-12-26 02:06:47   APARTMENT ONLY   \n",
       "1 2015-06-04 00:00:00 2015-06-09 00:00:00  ENTIRE BUILDING   \n",
       "2 2016-10-25 15:09:49 2016-10-30 08:48:56  ENTIRE BUILDING   \n",
       "3 2016-10-10 07:36:32 2016-10-12 10:56:01  ENTIRE BUILDING   \n",
       "4 2014-03-31 00:00:00 2014-04-07 00:00:00  ENTIRE BUILDING   \n",
       "\n",
       "          location_type incident_zip borough   latitude  longitude  \n",
       "0  RESIDENTIAL BUILDING        11691  QUEENS  40.602244 -73.753957  \n",
       "1  RESIDENTIAL BUILDING        11691  QUEENS  40.602244 -73.753957  \n",
       "2  RESIDENTIAL BUILDING        11691  QUEENS  40.602244 -73.753957  \n",
       "3  RESIDENTIAL BUILDING        11691  QUEENS  40.602244 -73.753957  \n",
       "4  RESIDENTIAL BUILDING        11691  QUEENS  40.602244 -73.753957  "
      ]
     },
     "execution_count": 13,
     "metadata": {},
     "output_type": "execute_result"
    }
   ],
   "source": [
    "df.head()"
   ]
  },
  {
   "cell_type": "code",
   "execution_count": 14,
   "metadata": {
    "collapsed": true
   },
   "outputs": [],
   "source": [
    "df.to_csv(\"hhw.csv\")"
   ]
  },
  {
   "cell_type": "code",
   "execution_count": 30,
   "metadata": {
    "collapsed": true
   },
   "outputs": [],
   "source": [
    "# per fiscal year, total calls and mean time to resolution\n",
    "query2 = \"\"\"\n",
    "SELECT AVG(close_days) AS avg_close_days,\n",
    "    count(*) AS n,\n",
    "    fiscal_year\n",
    "FROM\n",
    "(\n",
    "SELECT DATETIME_DIFF(DATETIME(closed_date), DATETIME(created_date), DAY) AS close_days, \n",
    "    EXTRACT(YEAR FROM DATETIME_ADD(DATETIME(created_date), INTERVAL 6 MONTH)) AS fiscal_year\n",
    "--     created_date,\n",
    "--     closed_date\n",
    "FROM \n",
    "`bigquery-public-data.new_york.311_service_requests` \n",
    "WHERE complaint_type = 'HEAT/HOT WATER'\n",
    ") x\n",
    "GROUP BY fiscal_year\n",
    "ORDER BY fiscal_year\n",
    "LIMIT 1000\n",
    "\n",
    "\"\"\"\n"
   ]
  },
  {
   "cell_type": "code",
   "execution_count": 31,
   "metadata": {
    "collapsed": false
   },
   "outputs": [
    {
     "name": "stdout",
     "output_type": "stream",
     "text": [
      "Requesting query... ok.\n",
      "Job ID: job_2YzZpEla_xhvH24RVjTMdTdEt50k\n",
      "Query running...\n",
      "Query done.\n",
      "Processed: 513.6 MB\n",
      "Standard price: $0.00 USD\n",
      "\n",
      "Retrieving results...\n",
      "Got 5 rows.\n",
      "\n",
      "Total time taken 2.03 s.\n",
      "Finished at 2017-09-23 13:35:13.\n"
     ]
    }
   ],
   "source": [
    "df2 = pd.read_gbq(query2, project_id='np-hacks',verbose=True, private_key='auth_key.json', dialect='standard')"
   ]
  },
  {
   "cell_type": "code",
   "execution_count": 32,
   "metadata": {
    "collapsed": false
   },
   "outputs": [
    {
     "data": {
      "text/html": [
       "<div>\n",
       "<style>\n",
       "    .dataframe thead tr:only-child th {\n",
       "        text-align: right;\n",
       "    }\n",
       "\n",
       "    .dataframe thead th {\n",
       "        text-align: left;\n",
       "    }\n",
       "\n",
       "    .dataframe tbody tr th {\n",
       "        vertical-align: top;\n",
       "    }\n",
       "</style>\n",
       "<table border=\"1\" class=\"dataframe\">\n",
       "  <thead>\n",
       "    <tr style=\"text-align: right;\">\n",
       "      <th></th>\n",
       "      <th>avg_close_days</th>\n",
       "      <th>n</th>\n",
       "      <th>fiscal_year</th>\n",
       "    </tr>\n",
       "  </thead>\n",
       "  <tbody>\n",
       "    <tr>\n",
       "      <th>0</th>\n",
       "      <td>3.337840</td>\n",
       "      <td>34853</td>\n",
       "      <td>2014</td>\n",
       "    </tr>\n",
       "    <tr>\n",
       "      <th>1</th>\n",
       "      <td>3.739793</td>\n",
       "      <td>240710</td>\n",
       "      <td>2015</td>\n",
       "    </tr>\n",
       "    <tr>\n",
       "      <th>2</th>\n",
       "      <td>3.541129</td>\n",
       "      <td>210362</td>\n",
       "      <td>2016</td>\n",
       "    </tr>\n",
       "    <tr>\n",
       "      <th>3</th>\n",
       "      <td>3.034665</td>\n",
       "      <td>210422</td>\n",
       "      <td>2017</td>\n",
       "    </tr>\n",
       "    <tr>\n",
       "      <th>4</th>\n",
       "      <td>4.135277</td>\n",
       "      <td>6831</td>\n",
       "      <td>2018</td>\n",
       "    </tr>\n",
       "  </tbody>\n",
       "</table>\n",
       "</div>"
      ],
      "text/plain": [
       "   avg_close_days       n  fiscal_year\n",
       "0        3.337840   34853         2014\n",
       "1        3.739793  240710         2015\n",
       "2        3.541129  210362         2016\n",
       "3        3.034665  210422         2017\n",
       "4        4.135277    6831         2018"
      ]
     },
     "execution_count": 32,
     "metadata": {},
     "output_type": "execute_result"
    }
   ],
   "source": [
    "df2"
   ]
  },
  {
   "cell_type": "code",
   "execution_count": 33,
   "metadata": {
    "collapsed": true
   },
   "outputs": [],
   "source": [
    "df2.to_csv(\"hhw_summary.csv\")"
   ]
  },
  {
   "cell_type": "code",
   "execution_count": null,
   "metadata": {
    "collapsed": true
   },
   "outputs": [],
   "source": []
  }
 ],
 "metadata": {
  "anaconda-cloud": {},
  "kernelspec": {
   "display_name": "Python [Root]",
   "language": "python",
   "name": "Python [Root]"
  },
  "language_info": {
   "codemirror_mode": {
    "name": "ipython",
    "version": 2
   },
   "file_extension": ".py",
   "mimetype": "text/x-python",
   "name": "python",
   "nbconvert_exporter": "python",
   "pygments_lexer": "ipython2",
   "version": "2.7.12"
  }
 },
 "nbformat": 4,
 "nbformat_minor": 0
}
